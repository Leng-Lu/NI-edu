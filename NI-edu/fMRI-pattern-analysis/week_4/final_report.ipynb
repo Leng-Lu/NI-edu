{
 "cells": [
  {
   "cell_type": "markdown",
   "metadata": {},
   "source": [
    "# Title of your project: fancy subtitle\n",
    "\n",
    "Student 1, student 2, University of Amsterdam, Pattern Analysis 2020\n",
    "\n",
    "*Below, we showcase how an example of project-report would look like. This specific example is about a hypothetical project using ML/RSA on the NI-edu dataset. Note that your project may use a different structure/format if you want; that's fine - as long as it's clear, readable, and concise, we don't care.*\n",
    "\n",
    "*In the example project below, the italicized text contains a description about what the section should contain; the regular (Latin) text is just a filler.*"
   ]
  },
  {
   "cell_type": "markdown",
   "metadata": {},
   "source": [
    "## Abstract\n",
    "*Here should be a short abstract about your project, outlining the research question, data, results, and conclusions.* \n",
    "\n",
    "Lorem ipsum dolor sit amet, consectetur adipiscing elit, sed do eiusmod tempor incididunt ut labore et dolore magna aliqua. Ut enim ad minim veniam, quis nostrud exercitation ullamco laboris nisi ut aliquip ex ea commodo consequat. Duis aute irure dolor in reprehenderit in voluptate velit esse cillum dolore eu fugiat nulla pariatur. Excepteur sint occaecat cupidatat non proident, sunt in culpa qui officia deserunt mollit anim id est laborum."
   ]
  },
  {
   "cell_type": "markdown",
   "metadata": {},
   "source": [
    "## Introduction\n",
    "*The introduction should inform the reader about the theoretical background of your topic and lead to the research question of the current study. In other words, the research question should be embedded in the literature and the type of analysis should be motivated.* \n",
    "\n",
    "Sed ut perspiciatis unde omnis iste natus error sit voluptatem accusantium doloremque laudantium, totam rem aperiam, eaque ipsa quae ab illo inventore veritatis et quasi architecto beatae vitae dicta sunt explicabo. Nemo enim ipsam voluptatem quia voluptas sit aspernatur aut odit aut fugit, sed quia consequuntur magni dolores eos qui ratione voluptatem sequi nesciunt. Neque porro quisquam est, qui dolorem ipsum quia dolor sit amet, consectetur, adipisci velit, sed quia non numquam eius modi tempora incidunt ut labore et dolore magnam aliquam quaerat voluptatem. Ut enim ad minima veniam, quis nostrum exercitationem ullam corporis suscipit laboriosam, nisi ut aliquid ex ea commodi consequatur? Quis autem vel eum iure reprehenderit qui in ea voluptate velit esse quam nihil molestiae consequatur, vel illum qui dolorem eum fugiat quo voluptas nulla pariatur?\n",
    "\n",
    "At vero eos et accusamus et iusto odio dignissimos ducimus qui blanditiis praesentium voluptatum deleniti atque corrupti quos dolores et quas molestias excepturi sint occaecati cupiditate non provident, similique sunt in culpa qui officia deserunt mollitia animi, id est laborum et dolorum fuga. Et harum quidem rerum facilis est et expedita distinctio. Nam libero tempore, cum soluta nobis est eligendi optio cumque nihil impedit quo minus id quod maxime placeat facere possimus, omnis voluptas assumenda est, omnis dolor repellendus. Temporibus autem quibusdam et aut officiis debitis aut rerum necessitatibus saepe eveniet ut et voluptates repudiandae sint et molestiae non recusandae. Itaque earum rerum hic tenetur a sapiente delectus, ut aut reiciendis voluptatibus maiores alias consequatur aut perferendis doloribus asperiores repellat."
   ]
  },
  {
   "cell_type": "markdown",
   "metadata": {},
   "source": [
    "## Current study\n",
    "*Goal and relevance of current study and explanation of your hypothesis.* \n",
    "\n",
    "Sed ut perspiciatis unde omnis iste natus error sit voluptatem accusantium doloremque laudantium, totam rem aperiam, eaque ipsa quae ab illo inventore veritatis et quasi architecto beatae vitae dicta sunt explicabo. Nemo enim ipsam voluptatem quia voluptas sit aspernatur aut odit aut fugit, sed quia consequuntur magni dolores eos qui ratione voluptatem sequi nesciunt. Neque porro quisquam est, qui dolorem ipsum quia dolor sit amet, consectetur, adipisci velit, sed quia non numquam eius modi tempora incidunt ut labore et dolore magnam aliquam quaerat voluptatem. Ut enim ad minima veniam, quis nostrum exercitationem ullam corporis suscipit laboriosam, nisi ut aliquid ex ea commodi consequatur? Quis autem vel eum iure reprehenderit qui in ea voluptate velit esse quam nihil molestiae consequatur, vel illum qui dolorem eum fugiat quo voluptas nulla pariatur?"
   ]
  },
  {
   "cell_type": "markdown",
   "metadata": {},
   "source": [
    "## Methods\n",
    "*This is the most important part of your report! Make sure you explain every step in your analysis, and where appropriate, explain your choices! Especially in this section, you are encouraged to include code. Below, we outlined a possible organization in subsections and outlined suggestions on what to include (you may structure it differently though, if you prefer). Therefore, the methods may turn out the largest section of your report, but that's fine! This is a methodological course, and this final project is your chance to show your understanding/skills. Note though, that in real articles using pattern analyses, the methods section will likely be more condensed. (For an example of a - quite extensive - methods section of a pattern analysis article, check this [link](https://github.com/lukassnoek/SharedStates/blob/master/patternanalysis_methods_example.pdf); for the full article, click [here](https://github.com/lukassnoek/SharedStates/blob/master/sharedstates_fullarticle_draft.pdf).)* "
   ]
  },
  {
   "cell_type": "markdown",
   "metadata": {},
   "source": [
    "### Experimental stimuli and procedure\n",
    "*Shortly describe the type of stimuli and the procedure of the experiment. This may be brief.*\n",
    "\n",
    "At vero eos et accusamus et iusto odio dignissimos ducimus qui blanditiis praesentium voluptatum deleniti atque corrupti quos dolores et quas molestias excepturi sint occaecati cupiditate non provident, similique sunt in culpa qui officia deserunt mollitia animi, id est laborum et dolorum fuga. Et harum quidem rerum facilis est et expedita distinctio. Nam libero tempore, cum soluta nobis est eligendi optio cumque nihil impedit quo minus id quod maxime placeat facere possimus, omnis voluptas assumenda est, omnis dolor repellendus. Temporibus autem quibusdam et aut officiis debitis aut rerum necessitatibus saepe eveniet ut et voluptates repudiandae sint et molestiae non recusandae. Itaque earum rerum hic tenetur a sapiente delectus, ut aut reiciendis voluptatibus maiores alias consequatur aut perferendis doloribus asperiores repellat."
   ]
  },
  {
   "cell_type": "markdown",
   "metadata": {},
   "source": [
    "### Pattern estimation and preprocessing\n",
    "*Here, you should describe how you estimated your patterns. For example, what did you use for activity estimates - $\\beta$-values (what type of noise normalization, if any?), single TRs with raw activity? Also, do you use single trial patterns or condition average patterns? Do you perform witin or between-subject analyses?*\n",
    "\n",
    "*Also, explain how you loaded and represented the data in its initial format (i.e. sample-by-brain feature array format). This is a good moment to show some code! We recommend trying to encapsulate different operations (loading in patterns, preprocessing, etc.) in different functions, or, if you are familiar with object-oriented programming, in (one or more) classes.*"
   ]
  },
  {
   "cell_type": "code",
   "execution_count": null,
   "metadata": {},
   "outputs": [],
   "source": [
    "def load_patterns(sub):\n",
    "    # An example function that loads in pattern files and returns\n",
    "    # a samples x features matrix (R)\n",
    "    pass"
   ]
  },
  {
   "cell_type": "markdown",
   "metadata": {},
   "source": [
    "*Here, you can start describing how you loaded in your data and preprocessed it. Again, mix code and text to illustrate your point!*\n",
    "\n",
    "*For example:*\n",
    "\n",
    "Here, we demonstrate how we loaded in the data for an example subject (sub-01):"
   ]
  },
  {
   "cell_type": "code",
   "execution_count": null,
   "metadata": {},
   "outputs": [],
   "source": [
    "R_example = load_patterns('sub-01')"
   ]
  },
  {
   "cell_type": "markdown",
   "metadata": {},
   "source": [
    "Then, we univariate noise normalized the pattern matrix using the residuals:"
   ]
  },
  {
   "cell_type": "code",
   "execution_count": null,
   "metadata": {},
   "outputs": [],
   "source": [
    "# Some code showing the noise normalization procedure"
   ]
  },
  {
   "cell_type": "markdown",
   "metadata": {},
   "source": [
    "### Experimental feature definition (RSA)\n",
    "*If you're using an RSA-type analysis, you can describe which stimulus/task-features you used to create the candidate feature RDM. E.g., we extracted 5 features from each image, namely such and so. This yielded a pattern of 5 values per image which we loaded in as follows ... Etc. You can also show code here to demonstrate how you did this.*"
   ]
  },
  {
   "cell_type": "markdown",
   "metadata": {},
   "source": [
    "### RDM creation (RSA)\n",
    "*Here you can describe how you created your RDMs. What distance metric did you use? What are the dimensions of the RDMs? Maybe include the function you used to create the candidate and neural RDMs?*"
   ]
  },
  {
   "cell_type": "code",
   "execution_count": null,
   "metadata": {
    "tags": [
     "raises-exception"
    ]
   },
   "outputs": [],
   "source": [
    "def create_feature_rdm(arg1, arg2):\n",
    "    # some code\n",
    "    pass\n",
    "\n",
    "rdm_S = create_feature_rdm(R, another_parameter)"
   ]
  },
  {
   "cell_type": "markdown",
   "metadata": {},
   "source": [
    "### Machine learning pipeline (ML)\n",
    "*If you're using machine learning, this is the section where you could explain what steps are included in your pipeline. Do you use some kind of feature selection (or feature extraction)? What type of model (classifier/regressor) do you use? What hyperparameters do you use (and, if they deviate from the standard settings, why?)? What type of cross-validation scheme did you use? How many folds? Etc. etc. Also, actually show your pipeline as code!*"
   ]
  },
  {
   "cell_type": "code",
   "execution_count": null,
   "metadata": {},
   "outputs": [],
   "source": [
    "from sklearn.pipeline import Pipeline\n",
    "from sklearn.feature_selection import f_classif, SelectKBest\n",
    "from sklearn.svm import SVC\n",
    "\n",
    "pipe = Pipeline([('ufs', SelectKBest(f_classif, k=100)),\n",
    "                 ('svm', SVC(kernel='linear', C=0.001))])\n",
    "\n",
    "# Then, show your cross-validation loop here!"
   ]
  },
  {
   "cell_type": "markdown",
   "metadata": {},
   "source": [
    "### Model performance and statistical evaluation \n",
    "*Here you'd write about how you evaluated the outcome of your pattern analysis. For example, if you performed a decoding analysis, what model performance metric did you use (accuracy? AUROC?)? How did you establish (non-)significance? Again, show your code! Also, you could show some code that outputs some nice plots showing your results!*"
   ]
  },
  {
   "cell_type": "markdown",
   "metadata": {},
   "source": [
    "### Feature/RDM visualization\n",
    "*You can make a separate section to show, for example, your RDMs. Figure are appreciated!*"
   ]
  },
  {
   "cell_type": "markdown",
   "metadata": {},
   "source": [
    "## Discussion & conclusions\n",
    "*In this section(s), interpret your results. What do they mean? Are there potential confounds? What are the limitations? What would you do if you could redo the experiment (or had more time)?*\n",
    "\n",
    "At vero eos et accusamus et iusto odio dignissimos ducimus qui blanditiis praesentium voluptatum deleniti atque corrupti quos dolores et quas molestias excepturi sint occaecati cupiditate non provident, similique sunt in culpa qui officia deserunt mollitia animi, id est laborum et dolorum fuga. Et harum quidem rerum facilis est et expedita distinctio. Nam libero tempore, cum soluta nobis est eligendi optio cumque nihil impedit quo minus id quod maxime placeat facere possimus, omnis voluptas assumenda est, omnis dolor repellendus. Temporibus autem quibusdam et aut officiis debitis aut rerum necessitatibus saepe eveniet ut et voluptates repudiandae sint et molestiae non recusandae. Itaque earum rerum hic tenetur a sapiente delectus, ut aut reiciendis voluptatibus maiores alias consequatur aut perferendis doloribus asperiores repellat.\n",
    "\n",
    "----------------"
   ]
  },
  {
   "cell_type": "markdown",
   "metadata": {},
   "source": [
    "### Other tips/comments\n",
    "Find some tips/comments/advice to make your report (even) better below:\n",
    "\n",
    "* Write your report as if you want to convince a reviewer that your study and analyses are proper and valid! Assume that (s)he is knowledgeable of pattern analyses, but wants to know exactly *how* you implemented them (for possible replication, for example);<br><br>\n",
    "* You can include images in the notebook as well! I always use [this cheatsheet](https://github.com/adam-p/markdown-here/wiki/Markdown-Cheatsheet) to check how this is done;<br><br>\n",
    "* The suggested structure/what-to-include is, by all means, a suggestion! If you think your report is structured better in a different way, go for it! As long as it is clear to us what (and *why*) you've done your analyses;<br><br>\n",
    "* Instead of including code in the notebook itself, you can also write your classes, functions, etc., in a separate module (a something.py file) and then import stuff from that module in the notebook, like: `from my_functions.py import load_patterns, convert_R_to_rdm`. If you do this, make sure the `my_functions.py` module with your code is in the same directory as your final-project notebook!<br><br>\n",
    "* Implement your analysis first on *one* subject; if that works, write a loop across different subjects!<br><br>\n",
    "\n",
    "Also: we included a \"manual test-cell\" below (with \"YOUR ANSWER HERE\"). You may ignore this; we're just using this to provide feedback on your report."
   ]
  },
  {
   "cell_type": "markdown",
   "metadata": {
    "deletable": false,
    "nbgrader": {
     "cell_type": "markdown",
     "checksum": "bce67057576868b558ae6db505b023d2",
     "grade": true,
     "grade_id": "cell-b950b129ab877075",
     "locked": false,
     "points": 10,
     "schema_version": 3,
     "solution": true
    }
   },
   "source": [
    "YOUR ANSWER HERE"
   ]
  }
 ],
 "metadata": {
  "kernelspec": {
   "display_name": "Python 3",
   "language": "python",
   "name": "python3"
  },
  "language_info": {
   "codemirror_mode": {
    "name": "ipython",
    "version": 3
   },
   "file_extension": ".py",
   "mimetype": "text/x-python",
   "name": "python",
   "nbconvert_exporter": "python",
   "pygments_lexer": "ipython3",
   "version": "3.8.5"
  },
  "toc": {
   "base_numbering": 1,
   "nav_menu": {},
   "number_sections": true,
   "sideBar": true,
   "skip_h1_title": true,
   "title_cell": "Table of Contents",
   "title_sidebar": "Contents",
   "toc_cell": true,
   "toc_position": {},
   "toc_section_display": true,
   "toc_window_display": false
  }
 },
 "nbformat": 4,
 "nbformat_minor": 2
}
